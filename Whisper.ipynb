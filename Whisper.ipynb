{
 "cells": [
  {
   "cell_type": "code",
   "execution_count": 3,
   "metadata": {},
   "outputs": [
    {
     "name": "stdout",
     "output_type": "stream",
     "text": [
      "Collecting git+https://github.com/openai/whisper.git\n",
      "  Cloning https://github.com/openai/whisper.git to /tmp/pip-req-build-11gpmqiu\n",
      "  Running command git clone --filter=blob:none --quiet https://github.com/openai/whisper.git /tmp/pip-req-build-11gpmqiu\n",
      "  Resolved https://github.com/openai/whisper.git to commit 9f70a352f9f8630ab3aa0d06af5cb9532bd8c21d\n",
      "  Preparing metadata (setup.py) ... \u001b[?25ldone\n",
      "\u001b[?25hRequirement already satisfied: numpy in /home/tgraupmann/anaconda3/lib/python3.9/site-packages (from whisper==1.0) (1.21.5)\n",
      "Requirement already satisfied: torch in /home/tgraupmann/anaconda3/lib/python3.9/site-packages (from whisper==1.0) (1.12.1)\n",
      "Requirement already satisfied: tqdm in /home/tgraupmann/anaconda3/lib/python3.9/site-packages (from whisper==1.0) (4.64.1)\n",
      "Requirement already satisfied: more-itertools in /home/tgraupmann/anaconda3/lib/python3.9/site-packages (from whisper==1.0) (9.0.0)\n",
      "Requirement already satisfied: transformers>=4.19.0 in /home/tgraupmann/anaconda3/lib/python3.9/site-packages (from whisper==1.0) (4.23.1)\n",
      "Requirement already satisfied: ffmpeg-python==0.2.0 in /home/tgraupmann/anaconda3/lib/python3.9/site-packages (from whisper==1.0) (0.2.0)\n",
      "Requirement already satisfied: future in /home/tgraupmann/anaconda3/lib/python3.9/site-packages (from ffmpeg-python==0.2.0->whisper==1.0) (0.18.2)\n",
      "Requirement already satisfied: regex!=2019.12.17 in /home/tgraupmann/anaconda3/lib/python3.9/site-packages (from transformers>=4.19.0->whisper==1.0) (2022.7.9)\n",
      "Requirement already satisfied: huggingface-hub<1.0,>=0.10.0 in /home/tgraupmann/anaconda3/lib/python3.9/site-packages (from transformers>=4.19.0->whisper==1.0) (0.10.1)\n",
      "Requirement already satisfied: pyyaml>=5.1 in /home/tgraupmann/anaconda3/lib/python3.9/site-packages (from transformers>=4.19.0->whisper==1.0) (6.0)\n",
      "Requirement already satisfied: tokenizers!=0.11.3,<0.14,>=0.11.1 in /home/tgraupmann/anaconda3/lib/python3.9/site-packages (from transformers>=4.19.0->whisper==1.0) (0.13.1)\n",
      "Requirement already satisfied: requests in /home/tgraupmann/anaconda3/lib/python3.9/site-packages (from transformers>=4.19.0->whisper==1.0) (2.28.1)\n",
      "Requirement already satisfied: filelock in /home/tgraupmann/anaconda3/lib/python3.9/site-packages (from transformers>=4.19.0->whisper==1.0) (3.6.0)\n",
      "Requirement already satisfied: packaging>=20.0 in /home/tgraupmann/anaconda3/lib/python3.9/site-packages (from transformers>=4.19.0->whisper==1.0) (21.3)\n",
      "Requirement already satisfied: typing-extensions in /home/tgraupmann/anaconda3/lib/python3.9/site-packages (from torch->whisper==1.0) (4.3.0)\n",
      "Requirement already satisfied: pyparsing!=3.0.5,>=2.0.2 in /home/tgraupmann/anaconda3/lib/python3.9/site-packages (from packaging>=20.0->transformers>=4.19.0->whisper==1.0) (3.0.9)\n",
      "Requirement already satisfied: urllib3<1.27,>=1.21.1 in /home/tgraupmann/anaconda3/lib/python3.9/site-packages (from requests->transformers>=4.19.0->whisper==1.0) (1.26.11)\n",
      "Requirement already satisfied: idna<4,>=2.5 in /home/tgraupmann/anaconda3/lib/python3.9/site-packages (from requests->transformers>=4.19.0->whisper==1.0) (3.3)\n",
      "Requirement already satisfied: charset-normalizer<3,>=2 in /home/tgraupmann/anaconda3/lib/python3.9/site-packages (from requests->transformers>=4.19.0->whisper==1.0) (2.0.4)\n",
      "Requirement already satisfied: certifi>=2017.4.17 in /home/tgraupmann/anaconda3/lib/python3.9/site-packages (from requests->transformers>=4.19.0->whisper==1.0) (2022.9.14)\n"
     ]
    }
   ],
   "source": [
    "# Increase VM size to at least 12GB\n",
    "!pip install git+https://github.com/openai/whisper.git"
   ]
  },
  {
   "cell_type": "code",
   "execution_count": 19,
   "metadata": {},
   "outputs": [
    {
     "name": "stdout",
     "output_type": "stream",
     "text": [
      "Reading package lists... Done\n",
      "Building dependency tree... Done\n",
      "Reading state information... Done\n",
      "ffmpeg is already the newest version (7:4.3.4-0+deb11u1).\n",
      "0 upgraded, 0 newly installed, 0 to remove and 28 not upgraded.\n"
     ]
    }
   ],
   "source": [
    "# Install dependencies\n",
    "!sudo apt-get install ffmpeg"
   ]
  },
  {
   "cell_type": "code",
   "execution_count": 11,
   "metadata": {},
   "outputs": [
    {
     "name": "stdout",
     "output_type": "stream",
     "text": [
      "Requirement already satisfied: ffmpeg-python in /home/tgraupmann/anaconda3/lib/python3.9/site-packages (0.2.0)\n",
      "Requirement already satisfied: future in /home/tgraupmann/anaconda3/lib/python3.9/site-packages (from ffmpeg-python) (0.18.2)\n"
     ]
    }
   ],
   "source": [
    "import whisper"
   ]
  },
  {
   "cell_type": "code",
   "execution_count": 13,
   "metadata": {},
   "outputs": [],
   "source": [
    "model = whisper.load_model(\"base\")"
   ]
  },
  {
   "cell_type": "code",
   "execution_count": 20,
   "metadata": {},
   "outputs": [
    {
     "name": "stderr",
     "output_type": "stream",
     "text": [
      "/home/tgraupmann/anaconda3/lib/python3.9/site-packages/whisper/transcribe.py:78: UserWarning: FP16 is not supported on CPU; using FP32 instead\n",
      "  warnings.warn(\"FP16 is not supported on CPU; using FP32 instead\")\n"
     ]
    },
    {
     "data": {
      "text/plain": [
       "{'text': \" Okay, so this time I'm recording with a weave file a weave file we\",\n",
       " 'segments': [{'id': 0,\n",
       "   'seek': 0,\n",
       "   'start': 0.0,\n",
       "   'end': 7.2,\n",
       "   'text': \" Okay, so this time I'm recording with a weave file a weave file we\",\n",
       "   'tokens': [50364,\n",
       "    1033,\n",
       "    11,\n",
       "    370,\n",
       "    341,\n",
       "    565,\n",
       "    286,\n",
       "    478,\n",
       "    6613,\n",
       "    365,\n",
       "    257,\n",
       "    29145,\n",
       "    3991,\n",
       "    257,\n",
       "    29145,\n",
       "    3991,\n",
       "    321,\n",
       "    50724],\n",
       "   'temperature': 0.0,\n",
       "   'avg_logprob': -0.36663768165989924,\n",
       "   'compression_ratio': 1.064516129032258,\n",
       "   'no_speech_prob': 0.029014788568019867}],\n",
       " 'language': 'en'}"
      ]
     },
     "execution_count": 20,
     "metadata": {},
     "output_type": "execute_result"
    }
   ],
   "source": [
    "out = model.transcribe(\"2022_10_23_14_41_00.wav\", language=\"en\")\n",
    "out"
   ]
  }
 ],
 "metadata": {
  "kernelspec": {
   "display_name": "Python 3.9.2 64-bit",
   "language": "python",
   "name": "python3"
  },
  "language_info": {
   "codemirror_mode": {
    "name": "ipython",
    "version": 3
   },
   "file_extension": ".py",
   "mimetype": "text/x-python",
   "name": "python",
   "nbconvert_exporter": "python",
   "pygments_lexer": "ipython3",
   "version": "3.9.13"
  },
  "orig_nbformat": 4,
  "vscode": {
   "interpreter": {
    "hash": "e7370f93d1d0cde622a1f8e1c04877d8463912d04d973331ad4851f04de6915a"
   }
  }
 },
 "nbformat": 4,
 "nbformat_minor": 2
}
